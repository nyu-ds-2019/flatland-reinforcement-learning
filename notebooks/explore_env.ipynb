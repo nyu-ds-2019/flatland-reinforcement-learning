{
 "cells": [
  {
   "cell_type": "code",
   "execution_count": 3,
   "metadata": {},
   "outputs": [],
   "source": [
    "from flatland.envs.rail_env import RailEnv\n",
    "from flatland.envs.rail_generators import sparse_rail_generator\n",
    "from flatland.envs.schedule_generators import sparse_schedule_generator\n",
    "from flatland.envs.observations import TreeObsForRailEnv\n"
   ]
  },
  {
   "cell_type": "code",
   "execution_count": 27,
   "metadata": {},
   "outputs": [],
   "source": [
    "import numpy as np\n",
    "from flatland.envs.observations import TreeObsForRailEnv\n",
    "\n",
    "def max_lt(seq, val):\n",
    "    \"\"\"\n",
    "    Return greatest item in seq for which item < val applies.\n",
    "    None is returned if seq was empty or all items in seq were >= val.\n",
    "    \"\"\"\n",
    "    max = 0\n",
    "    idx = len(seq) - 1\n",
    "    while idx >= 0:\n",
    "        if seq[idx] < val and seq[idx] >= 0 and seq[idx] > max:\n",
    "            max = seq[idx]\n",
    "        idx -= 1\n",
    "    return max\n",
    "\n",
    "\n",
    "def min_gt(seq, val):\n",
    "    \"\"\"\n",
    "    Return smallest item in seq for which item > val applies.\n",
    "    None is returned if seq was empty or all items in seq were >= val.\n",
    "    \"\"\"\n",
    "    min = np.inf\n",
    "    idx = len(seq) - 1\n",
    "    while idx >= 0:\n",
    "        if seq[idx] >= val and seq[idx] < min:\n",
    "            min = seq[idx]\n",
    "        idx -= 1\n",
    "    return min\n",
    "\n",
    "\n",
    "def norm_obs_clip(obs, clip_min=-1, clip_max=1, fixed_radius=0, normalize_to_range=False):\n",
    "    \"\"\"\n",
    "    This function returns the difference between min and max value of an observation\n",
    "    :param obs: Observation that should be normalized\n",
    "    :param clip_min: min value where observation will be clipped\n",
    "    :param clip_max: max value where observation will be clipped\n",
    "    :return: returnes normalized and clipped observatoin\n",
    "    \"\"\"\n",
    "    if fixed_radius > 0:\n",
    "        max_obs = fixed_radius\n",
    "    else:\n",
    "        max_obs = max(1, max_lt(obs, 1000)) + 1\n",
    "\n",
    "    min_obs = 0  # min(max_obs, min_gt(obs, 0))\n",
    "    if normalize_to_range:\n",
    "        min_obs = min_gt(obs, 0)\n",
    "    if min_obs > max_obs:\n",
    "        min_obs = max_obs\n",
    "    if max_obs == min_obs:\n",
    "        return np.clip(np.array(obs) / max_obs, clip_min, clip_max)\n",
    "    norm = np.abs(max_obs - min_obs)\n",
    "    return np.clip((np.array(obs) - min_obs) / norm, clip_min, clip_max)\n",
    "\n",
    "\n",
    "def _split_node_into_feature_groups(node) -> (np.ndarray, np.ndarray, np.ndarray):\n",
    "    data = np.zeros(6)\n",
    "    distance = np.zeros(1)\n",
    "    agent_data = np.zeros(4)\n",
    "\n",
    "    data[0] = node.dist_own_target_encountered\n",
    "    data[1] = node.dist_other_target_encountered\n",
    "    data[2] = node.dist_other_agent_encountered\n",
    "    data[3] = node.dist_potential_conflict\n",
    "    data[4] = node.dist_unusable_switch\n",
    "    data[5] = node.dist_to_next_branch\n",
    "\n",
    "    distance[0] = node.dist_min_to_target\n",
    "\n",
    "    agent_data[0] = node.num_agents_same_direction\n",
    "    agent_data[1] = node.num_agents_opposite_direction\n",
    "    agent_data[2] = node.num_agents_malfunctioning\n",
    "    agent_data[3] = node.speed_min_fractional\n",
    "\n",
    "    return data, distance, agent_data\n",
    "\n",
    "\n",
    "def _split_subtree_into_feature_groups(node, current_tree_depth: int, max_tree_depth: int) -> (np.ndarray, np.ndarray, np.ndarray):\n",
    "    if node == -np.inf:\n",
    "        remaining_depth = max_tree_depth - current_tree_depth\n",
    "        # reference: https://stackoverflow.com/questions/515214/total-number-of-nodes-in-a-tree-data-structure\n",
    "        num_remaining_nodes = int((4 ** (remaining_depth + 1) - 1) / (4 - 1))\n",
    "        return [-np.inf] * num_remaining_nodes * 6, [-np.inf] * num_remaining_nodes, [-np.inf] * num_remaining_nodes * 4\n",
    "\n",
    "    data, distance, agent_data = _split_node_into_feature_groups(node)\n",
    "\n",
    "    if not node.childs:\n",
    "        return data, distance, agent_data\n",
    "\n",
    "    for direction in TreeObsForRailEnv.tree_explored_actions_char:\n",
    "        sub_data, sub_distance, sub_agent_data = _split_subtree_into_feature_groups(node.childs[direction], current_tree_depth + 1, max_tree_depth)\n",
    "        data = np.concatenate((data, sub_data))\n",
    "        distance = np.concatenate((distance, sub_distance))\n",
    "        agent_data = np.concatenate((agent_data, sub_agent_data))\n",
    "\n",
    "    return data, distance, agent_data\n",
    "\n",
    "\n",
    "def split_tree_into_feature_groups(tree, max_tree_depth: int) -> (np.ndarray, np.ndarray, np.ndarray):\n",
    "    \"\"\"\n",
    "    This function splits the tree into three difference arrays of values\n",
    "    \"\"\"\n",
    "    data, distance, agent_data = _split_node_into_feature_groups(tree)\n",
    "\n",
    "    for direction in TreeObsForRailEnv.tree_explored_actions_char:\n",
    "        sub_data, sub_distance, sub_agent_data = _split_subtree_into_feature_groups(tree.childs[direction], 1, max_tree_depth)\n",
    "        data = np.concatenate((data, sub_data))\n",
    "        distance = np.concatenate((distance, sub_distance))\n",
    "        agent_data = np.concatenate((agent_data, sub_agent_data))\n",
    "\n",
    "    return data, distance, agent_data\n",
    "\n",
    "\n",
    "def normalize_observation(observation, tree_depth: int, observation_radius=0):\n",
    "    \"\"\"\n",
    "    This function normalizes the observation used by the RL algorithm\n",
    "    \"\"\"\n",
    "    data, distance, agent_data = split_tree_into_feature_groups(observation, tree_depth)\n",
    "\n",
    "    data = norm_obs_clip(data, fixed_radius=observation_radius)\n",
    "    distance = norm_obs_clip(distance, normalize_to_range=True)\n",
    "    agent_data = np.clip(agent_data, -1, 1)\n",
    "    normalized_obs = np.concatenate((np.concatenate((data, distance)), agent_data))\n",
    "    return normalized_obs\n"
   ]
  },
  {
   "cell_type": "code",
   "execution_count": 5,
   "metadata": {},
   "outputs": [],
   "source": [
    "n_agents = 1\n",
    "x_dim = 25\n",
    "y_dim = 25\n",
    "n_cities = 4\n",
    "max_rails_between_cities = 2\n",
    "max_rails_in_city = 3\n",
    "seed = 42\n",
    "\n",
    "# Observation parameters\n",
    "observation_tree_depth = 2\n",
    "observation_radius = 10\n",
    "\n",
    "# Exploration parameters\n",
    "eps_start = 1.0\n",
    "eps_end = 0.01\n",
    "eps_decay = 0.997  # for 2500ts\n",
    "\n",
    "\n",
    "tree_observation = TreeObsForRailEnv(max_depth=observation_tree_depth)\n",
    "\n",
    "env = RailEnv(\n",
    "    width=x_dim,\n",
    "    height=y_dim,\n",
    "    rail_generator=sparse_rail_generator(\n",
    "        max_num_cities=n_cities,\n",
    "        seed=seed,\n",
    "        grid_mode=False,\n",
    "        max_rails_between_cities=max_rails_between_cities,\n",
    "        max_rails_in_city=max_rails_in_city\n",
    "    ),\n",
    "    schedule_generator=sparse_schedule_generator(),\n",
    "    number_of_agents=n_agents,\n",
    "    obs_builder_object=tree_observation\n",
    ")"
   ]
  },
  {
   "cell_type": "code",
   "execution_count": 7,
   "metadata": {},
   "outputs": [
    {
     "data": {
      "text/plain": [
       "['__class__',\n",
       " '__delattr__',\n",
       " '__dict__',\n",
       " '__dir__',\n",
       " '__doc__',\n",
       " '__eq__',\n",
       " '__format__',\n",
       " '__ge__',\n",
       " '__getattribute__',\n",
       " '__gt__',\n",
       " '__hash__',\n",
       " '__init__',\n",
       " '__init_subclass__',\n",
       " '__le__',\n",
       " '__lt__',\n",
       " '__module__',\n",
       " '__ne__',\n",
       " '__new__',\n",
       " '__reduce__',\n",
       " '__reduce_ex__',\n",
       " '__repr__',\n",
       " '__setattr__',\n",
       " '__sizeof__',\n",
       " '__str__',\n",
       " '__subclasshook__',\n",
       " '__weakref__',\n",
       " '_break_agent',\n",
       " '_check_action_on_agent',\n",
       " '_elapsed_steps',\n",
       " '_exp_distirbution_synced',\n",
       " '_fix_agent_after_malfunction',\n",
       " '_get_observations',\n",
       " '_is_agent_ok',\n",
       " '_max_episode_steps',\n",
       " '_move_agent_to_new_position',\n",
       " '_remove_agent_from_scene',\n",
       " '_seed',\n",
       " '_set_agent_to_initial_position',\n",
       " '_step_agent',\n",
       " '_step_agent2_cf',\n",
       " '_step_agent_cf',\n",
       " 'action_required',\n",
       " 'action_space',\n",
       " 'add_agent',\n",
       " 'agent_positions',\n",
       " 'agents',\n",
       " 'alpha',\n",
       " 'beta',\n",
       " 'cell_free',\n",
       " 'check_action',\n",
       " 'close_following',\n",
       " 'cur_episode',\n",
       " 'dev_obs_dict',\n",
       " 'dev_pred_dict',\n",
       " 'distance_map',\n",
       " 'done',\n",
       " 'dones',\n",
       " 'epsilon',\n",
       " 'get_agent_handles',\n",
       " 'get_num_agents',\n",
       " 'get_valid_directions_on_grid',\n",
       " 'global_reward',\n",
       " 'height',\n",
       " 'invalid_action_penalty',\n",
       " 'list_actions',\n",
       " 'malfunction_generator',\n",
       " 'malfunction_process_data',\n",
       " 'motionCheck',\n",
       " 'np_random',\n",
       " 'num_resets',\n",
       " 'number_of_agents',\n",
       " 'obs_builder',\n",
       " 'obs_dict',\n",
       " 'rail',\n",
       " 'rail_generator',\n",
       " 'random_seed',\n",
       " 'record_steps',\n",
       " 'record_timestep',\n",
       " 'remove_agents_at_target',\n",
       " 'reset',\n",
       " 'reset_agents',\n",
       " 'rewards',\n",
       " 'rewards_dict',\n",
       " 'save',\n",
       " 'schedule_generator',\n",
       " 'set_agent_active',\n",
       " 'start_penalty',\n",
       " 'step',\n",
       " 'step_penalty',\n",
       " 'stop_penalty',\n",
       " 'valid_positions',\n",
       " 'width']"
      ]
     },
     "execution_count": 7,
     "metadata": {},
     "output_type": "execute_result"
    }
   ],
   "source": [
    "dir(env)"
   ]
  },
  {
   "cell_type": "code",
   "execution_count": 13,
   "metadata": {},
   "outputs": [
    {
     "name": "stderr",
     "output_type": "stream",
     "text": [
      "/Users/nikhilvs/anaconda3/envs/flatland-rl/lib/python3.6/site-packages/flatland/envs/rail_generators.py:781: UserWarning: Could not set all required cities!\n",
      "  \"Could not set all required cities!\")\n"
     ]
    }
   ],
   "source": [
    "obs, info = env.reset(regenerate_rail=True, regenerate_schedule=True)"
   ]
  },
  {
   "cell_type": "code",
   "execution_count": 22,
   "metadata": {},
   "outputs": [
    {
     "data": {
      "text/plain": [
       "11"
      ]
     },
     "execution_count": 22,
     "metadata": {},
     "output_type": "execute_result"
    }
   ],
   "source": [
    "env.obs_builder.observation_dim"
   ]
  },
  {
   "cell_type": "code",
   "execution_count": 23,
   "metadata": {},
   "outputs": [],
   "source": [
    "max_steps = int(4 * 2 * (env.height + env.width + (n_agents / n_cities)))"
   ]
  },
  {
   "cell_type": "code",
   "execution_count": 26,
   "metadata": {},
   "outputs": [
    {
     "data": {
      "text/plain": [
       "range(0, 1)"
      ]
     },
     "execution_count": 26,
     "metadata": {},
     "output_type": "execute_result"
    }
   ],
   "source": [
    "env.get_agent_handles()"
   ]
  },
  {
   "cell_type": "code",
   "execution_count": 33,
   "metadata": {},
   "outputs": [],
   "source": [
    "n_features_per_node = env.obs_builder.observation_dim\n",
    "n_nodes = 0\n",
    "for i in range(observation_tree_depth + 1):\n",
    "    n_nodes += np.power(4, i)\n",
    "state_size = n_features_per_node * n_nodes"
   ]
  },
  {
   "cell_type": "code",
   "execution_count": 37,
   "metadata": {},
   "outputs": [
    {
     "name": "stdout",
     "output_type": "stream",
     "text": [
      "231 21 11\n"
     ]
    }
   ],
   "source": [
    "print(state_size, n_nodes, n_features_per_node)"
   ]
  },
  {
   "cell_type": "code",
   "execution_count": 28,
   "metadata": {},
   "outputs": [],
   "source": [
    "ob = normalize_observation(obs[0], observation_tree_depth, observation_radius=observation_radius)"
   ]
  },
  {
   "cell_type": "code",
   "execution_count": 32,
   "metadata": {},
   "outputs": [
    {
     "data": {
      "text/plain": [
       "(231,)"
      ]
     },
     "execution_count": 32,
     "metadata": {},
     "output_type": "execute_result"
    }
   ],
   "source": [
    "ob.shape"
   ]
  },
  {
   "cell_type": "code",
   "execution_count": 34,
   "metadata": {},
   "outputs": [
    {
     "data": {
      "text/plain": [
       "231"
      ]
     },
     "execution_count": 34,
     "metadata": {},
     "output_type": "execute_result"
    }
   ],
   "source": [
    "state_size"
   ]
  },
  {
   "cell_type": "code",
   "execution_count": 35,
   "metadata": {},
   "outputs": [
    {
     "data": {
      "text/plain": [
       "array([ 0.        ,  0.        ,  0.        ,  0.        ,  0.        ,\n",
       "        0.        , -1.        , -1.        , -1.        , -1.        ,\n",
       "       -1.        , -1.        , -1.        , -1.        , -1.        ,\n",
       "       -1.        , -1.        , -1.        , -1.        , -1.        ,\n",
       "       -1.        , -1.        , -1.        , -1.        , -1.        ,\n",
       "       -1.        , -1.        , -1.        , -1.        , -1.        ,\n",
       "       -1.        , -1.        , -1.        , -1.        , -1.        ,\n",
       "       -1.        ,  1.        ,  1.        ,  1.        ,  1.        ,\n",
       "        1.        ,  0.2       ,  1.        ,  1.        ,  1.        ,\n",
       "        1.        ,  0.3       ,  0.4       ,  1.        ,  1.        ,\n",
       "        1.        ,  1.        ,  0.3       ,  1.        , -1.        ,\n",
       "       -1.        , -1.        , -1.        , -1.        , -1.        ,\n",
       "       -1.        , -1.        , -1.        , -1.        , -1.        ,\n",
       "       -1.        , -1.        , -1.        , -1.        , -1.        ,\n",
       "       -1.        , -1.        , -1.        , -1.        , -1.        ,\n",
       "       -1.        , -1.        , -1.        , -1.        , -1.        ,\n",
       "       -1.        , -1.        , -1.        , -1.        , -1.        ,\n",
       "       -1.        , -1.        , -1.        , -1.        , -1.        ,\n",
       "       -1.        , -1.        , -1.        , -1.        , -1.        ,\n",
       "       -1.        , -1.        , -1.        , -1.        , -1.        ,\n",
       "       -1.        , -1.        , -1.        , -1.        , -1.        ,\n",
       "       -1.        , -1.        , -1.        , -1.        , -1.        ,\n",
       "       -1.        , -1.        , -1.        , -1.        , -1.        ,\n",
       "       -1.        , -1.        , -1.        , -1.        , -1.        ,\n",
       "       -1.        , -1.        , -1.        , -1.        , -1.        ,\n",
       "       -1.        ,  0.90909091, -1.        , -1.        , -1.        ,\n",
       "       -1.        , -1.        ,  0.72727273,  0.54545455,  0.        ,\n",
       "       -1.        , -1.        , -1.        , -1.        , -1.        ,\n",
       "       -1.        , -1.        , -1.        , -1.        , -1.        ,\n",
       "       -1.        , -1.        ,  0.        ,  0.        ,  0.        ,\n",
       "        1.        , -1.        , -1.        , -1.        , -1.        ,\n",
       "       -1.        , -1.        , -1.        , -1.        , -1.        ,\n",
       "       -1.        , -1.        , -1.        , -1.        , -1.        ,\n",
       "       -1.        , -1.        , -1.        , -1.        , -1.        ,\n",
       "       -1.        ,  0.        ,  0.        ,  0.        ,  1.        ,\n",
       "        0.        ,  0.        ,  0.        ,  1.        ,  0.        ,\n",
       "        0.        ,  0.        ,  1.        , -1.        , -1.        ,\n",
       "       -1.        , -1.        , -1.        , -1.        , -1.        ,\n",
       "       -1.        , -1.        , -1.        , -1.        , -1.        ,\n",
       "       -1.        , -1.        , -1.        , -1.        , -1.        ,\n",
       "       -1.        , -1.        , -1.        , -1.        , -1.        ,\n",
       "       -1.        , -1.        , -1.        , -1.        , -1.        ,\n",
       "       -1.        , -1.        , -1.        , -1.        , -1.        ,\n",
       "       -1.        , -1.        , -1.        , -1.        , -1.        ,\n",
       "       -1.        , -1.        , -1.        , -1.        , -1.        ,\n",
       "       -1.        , -1.        , -1.        , -1.        , -1.        ,\n",
       "       -1.        ])"
      ]
     },
     "execution_count": 35,
     "metadata": {},
     "output_type": "execute_result"
    }
   ],
   "source": [
    "ob"
   ]
  },
  {
   "cell_type": "code",
   "execution_count": null,
   "metadata": {},
   "outputs": [],
   "source": []
  }
 ],
 "metadata": {
  "kernelspec": {
   "display_name": "Python 3",
   "language": "python",
   "name": "python3"
  },
  "language_info": {
   "codemirror_mode": {
    "name": "ipython",
    "version": 3
   },
   "file_extension": ".py",
   "mimetype": "text/x-python",
   "name": "python",
   "nbconvert_exporter": "python",
   "pygments_lexer": "ipython3",
   "version": "3.6.8"
  }
 },
 "nbformat": 4,
 "nbformat_minor": 4
}
